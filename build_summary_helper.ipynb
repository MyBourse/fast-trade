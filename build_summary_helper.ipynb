{
 "cells": [
  {
   "cell_type": "code",
   "execution_count": 118,
   "metadata": {},
   "outputs": [
    {
     "name": "stdout",
     "output_type": "stream",
     "text": [
      "{\n",
      "  \"mean_trade_len\": \"0 days 05:35:38.440000\",\n",
      "  \"max_trade_held\": \"3 days 02:35:00\",\n",
      "  \"min_trade_len\": \"0 days 00:29:59\",\n",
      "  \"best_trade_perc\": 7.237,\n",
      "  \"min_trade_perc\": -4.172,\n",
      "  \"avg_trade_perc\": 0.061,\n",
      "  \"num_trades\": 26,\n",
      "  \"win_perc\": 0.423,\n",
      "  \"loss_perc\": 0.538\n",
      "}\n"
     ]
    }
   ],
   "source": [
    "from fast_trade import run_backtest\n",
    "import pandas as pd\n",
    "import json\n",
    "\n",
    "csv_path = \"/Users/jedmeier/2017_standard/BTCUSDT.csv\"\n",
    "with open(\"./example_strat_2.json\", \"r\") as json_file:\n",
    "    strategy = json.load(json_file)\n",
    "\n",
    "strategy['chart_period'] = \"15m\"\n",
    "timeframe = {\"start\": \"2018-02-01 00:00:00\", \"stop\": \"2018-02-07 00:00:00\"}\n",
    "\n",
    "df = run_backtest(csv_path, strategy, timeframe)\n",
    "\n",
    "aux = df.drop_duplicates(subset =\"aux_balance\", \n",
    "                     keep = False, inplace = False)\n",
    "\n",
    "trade_perc_series = aux['aux_balance'].pct_change() * 100\n",
    "trade_time_held_series = pd.to_datetime(aux[\"date\"], unit=\"s\").diff()\n",
    "\n",
    "\n",
    "mean_trade_time_held = trade_time_held_series.mean()\n",
    "max_trade_time_held = trade_time_held_series.max()\n",
    "min_trade_time_held = trade_time_held_series.min()\n",
    "\n",
    "max_trade_perc = trade_perc_series.max()\n",
    "min_trade_perc = trade_perc_series.min()\n",
    "avg_trade_perc = trade_perc_series.mean()\n",
    "\n",
    "win_trades = trade_perc_series[trade_perc_series > 0 ]\n",
    "loss_trades = trade_perc_series[trade_perc_series < 0]\n",
    "total_trades = len(aux)\n",
    "win_perc =  len(win_trades) / total_trades\n",
    "loss_perc =  len(loss_trades) / total_trades\n",
    "\n",
    "\n",
    "summary = {\n",
    "    \"mean_trade_len\": str(mean_trade_time_held),\n",
    "    \"max_trade_held\": str(max_trade_time_held),\n",
    "    \"min_trade_len\": str(min_trade_time_held),\n",
    "    \"best_trade_perc\": round(max_trade_perc, 3),\n",
    "    \"min_trade_perc\": round(min_trade_perc, 3),\n",
    "    \"avg_trade_perc\": round(avg_trade_perc, 3),\n",
    "    \"num_trades\": len(aux),\n",
    "    \"win_perc\": round(win_perc, 3),\n",
    "    \"loss_perc\": round(loss_perc, 3),\n",
    "}\n",
    "\n",
    "print(json.dumps(summary, indent=2))"
   ]
  },
  {
   "cell_type": "code",
   "execution_count": null,
   "metadata": {},
   "outputs": [],
   "source": []
  }
 ],
 "metadata": {
  "kernelspec": {
   "display_name": "Python 3",
   "language": "python",
   "name": "python3"
  },
  "language_info": {
   "codemirror_mode": {
    "name": "ipython",
    "version": 3
   },
   "file_extension": ".py",
   "mimetype": "text/x-python",
   "name": "python",
   "nbconvert_exporter": "python",
   "pygments_lexer": "ipython3",
   "version": "3.7.6"
  }
 },
 "nbformat": 4,
 "nbformat_minor": 4
}
